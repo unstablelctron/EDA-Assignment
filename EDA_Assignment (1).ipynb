{
 "cells": [
  {
   "cell_type": "markdown",
   "id": "e17cd9b7-cbe5-440a-85bd-549f176b3f15",
   "metadata": {},
   "source": [
    "<h2 style=\"font-size:32px;\">EDA | Assignment\n",
    "</h2>"
   ]
  },
  {
   "cell_type": "code",
   "execution_count": null,
   "id": "35e8dcdd-56af-4bc8-ba79-2dfea7d5bb88",
   "metadata": {},
   "outputs": [],
   "source": [
    "import pandas as pd\n",
    "import numpy as np\n",
    "import matplotlib.pyplot as plt\n",
    "import seaborn as sns\n",
    "import warnings\n",
    "warnings.filterwarnings('ignore')"
   ]
  },
  {
   "cell_type": "markdown",
   "id": "fe70daa8-203b-4ac3-92de-340242c12045",
   "metadata": {},
   "source": [
    "<h2 style=\"font-size:28px;\">Question 1: Read the Bike Details dataset into a Pandas DataFrame and display its\n",
    "first 10 rows.</h2>"
   ]
  },
  {
   "cell_type": "code",
   "execution_count": 6,
   "id": "46b14d06-deb8-433d-9e57-6f98745aa878",
   "metadata": {},
   "outputs": [
    {
     "data": {
      "text/html": [
       "<div>\n",
       "<style scoped>\n",
       "    .dataframe tbody tr th:only-of-type {\n",
       "        vertical-align: middle;\n",
       "    }\n",
       "\n",
       "    .dataframe tbody tr th {\n",
       "        vertical-align: top;\n",
       "    }\n",
       "\n",
       "    .dataframe thead th {\n",
       "        text-align: right;\n",
       "    }\n",
       "</style>\n",
       "<table border=\"1\" class=\"dataframe\">\n",
       "  <thead>\n",
       "    <tr style=\"text-align: right;\">\n",
       "      <th></th>\n",
       "      <th>name</th>\n",
       "      <th>selling_price</th>\n",
       "      <th>year</th>\n",
       "      <th>seller_type</th>\n",
       "      <th>owner</th>\n",
       "      <th>km_driven</th>\n",
       "      <th>ex_showroom_price</th>\n",
       "    </tr>\n",
       "  </thead>\n",
       "  <tbody>\n",
       "    <tr>\n",
       "      <th>0</th>\n",
       "      <td>Royal Enfield Classic 350</td>\n",
       "      <td>175000</td>\n",
       "      <td>2019</td>\n",
       "      <td>Individual</td>\n",
       "      <td>1st owner</td>\n",
       "      <td>350</td>\n",
       "      <td>NaN</td>\n",
       "    </tr>\n",
       "    <tr>\n",
       "      <th>1</th>\n",
       "      <td>Honda Dio</td>\n",
       "      <td>45000</td>\n",
       "      <td>2017</td>\n",
       "      <td>Individual</td>\n",
       "      <td>1st owner</td>\n",
       "      <td>5650</td>\n",
       "      <td>NaN</td>\n",
       "    </tr>\n",
       "    <tr>\n",
       "      <th>2</th>\n",
       "      <td>Royal Enfield Classic Gunmetal Grey</td>\n",
       "      <td>150000</td>\n",
       "      <td>2018</td>\n",
       "      <td>Individual</td>\n",
       "      <td>1st owner</td>\n",
       "      <td>12000</td>\n",
       "      <td>148114.0</td>\n",
       "    </tr>\n",
       "    <tr>\n",
       "      <th>3</th>\n",
       "      <td>Yamaha Fazer FI V 2.0 [2016-2018]</td>\n",
       "      <td>65000</td>\n",
       "      <td>2015</td>\n",
       "      <td>Individual</td>\n",
       "      <td>1st owner</td>\n",
       "      <td>23000</td>\n",
       "      <td>89643.0</td>\n",
       "    </tr>\n",
       "    <tr>\n",
       "      <th>4</th>\n",
       "      <td>Yamaha SZ [2013-2014]</td>\n",
       "      <td>20000</td>\n",
       "      <td>2011</td>\n",
       "      <td>Individual</td>\n",
       "      <td>2nd owner</td>\n",
       "      <td>21000</td>\n",
       "      <td>NaN</td>\n",
       "    </tr>\n",
       "    <tr>\n",
       "      <th>...</th>\n",
       "      <td>...</td>\n",
       "      <td>...</td>\n",
       "      <td>...</td>\n",
       "      <td>...</td>\n",
       "      <td>...</td>\n",
       "      <td>...</td>\n",
       "      <td>...</td>\n",
       "    </tr>\n",
       "    <tr>\n",
       "      <th>1056</th>\n",
       "      <td>Activa 3g</td>\n",
       "      <td>17000</td>\n",
       "      <td>2010</td>\n",
       "      <td>Individual</td>\n",
       "      <td>1st owner</td>\n",
       "      <td>500000</td>\n",
       "      <td>52000.0</td>\n",
       "    </tr>\n",
       "    <tr>\n",
       "      <th>1057</th>\n",
       "      <td>Honda CB twister</td>\n",
       "      <td>16000</td>\n",
       "      <td>2012</td>\n",
       "      <td>Individual</td>\n",
       "      <td>1st owner</td>\n",
       "      <td>33000</td>\n",
       "      <td>51000.0</td>\n",
       "    </tr>\n",
       "    <tr>\n",
       "      <th>1058</th>\n",
       "      <td>Bajaj Discover 125</td>\n",
       "      <td>15000</td>\n",
       "      <td>2013</td>\n",
       "      <td>Individual</td>\n",
       "      <td>2nd owner</td>\n",
       "      <td>35000</td>\n",
       "      <td>57000.0</td>\n",
       "    </tr>\n",
       "    <tr>\n",
       "      <th>1059</th>\n",
       "      <td>Honda CB Shine</td>\n",
       "      <td>12000</td>\n",
       "      <td>2009</td>\n",
       "      <td>Individual</td>\n",
       "      <td>1st owner</td>\n",
       "      <td>53000</td>\n",
       "      <td>58000.0</td>\n",
       "    </tr>\n",
       "    <tr>\n",
       "      <th>1060</th>\n",
       "      <td>Bajaj Pulsar 150</td>\n",
       "      <td>10000</td>\n",
       "      <td>2008</td>\n",
       "      <td>Individual</td>\n",
       "      <td>1st owner</td>\n",
       "      <td>92233</td>\n",
       "      <td>75000.0</td>\n",
       "    </tr>\n",
       "  </tbody>\n",
       "</table>\n",
       "<p>1061 rows × 7 columns</p>\n",
       "</div>"
      ],
      "text/plain": [
       "                                     name  selling_price  year seller_type  \\\n",
       "0               Royal Enfield Classic 350         175000  2019  Individual   \n",
       "1                               Honda Dio          45000  2017  Individual   \n",
       "2     Royal Enfield Classic Gunmetal Grey         150000  2018  Individual   \n",
       "3       Yamaha Fazer FI V 2.0 [2016-2018]          65000  2015  Individual   \n",
       "4                   Yamaha SZ [2013-2014]          20000  2011  Individual   \n",
       "...                                   ...            ...   ...         ...   \n",
       "1056                            Activa 3g          17000  2010  Individual   \n",
       "1057                     Honda CB twister          16000  2012  Individual   \n",
       "1058                   Bajaj Discover 125          15000  2013  Individual   \n",
       "1059                       Honda CB Shine          12000  2009  Individual   \n",
       "1060                     Bajaj Pulsar 150          10000  2008  Individual   \n",
       "\n",
       "          owner  km_driven  ex_showroom_price  \n",
       "0     1st owner        350                NaN  \n",
       "1     1st owner       5650                NaN  \n",
       "2     1st owner      12000           148114.0  \n",
       "3     1st owner      23000            89643.0  \n",
       "4     2nd owner      21000                NaN  \n",
       "...         ...        ...                ...  \n",
       "1056  1st owner     500000            52000.0  \n",
       "1057  1st owner      33000            51000.0  \n",
       "1058  2nd owner      35000            57000.0  \n",
       "1059  1st owner      53000            58000.0  \n",
       "1060  1st owner      92233            75000.0  \n",
       "\n",
       "[1061 rows x 7 columns]"
      ]
     },
     "execution_count": 6,
     "metadata": {},
     "output_type": "execute_result"
    }
   ],
   "source": [
    "df = pd.read_csv('BIKE DETAILS.csv')\n",
    "df"
   ]
  },
  {
   "cell_type": "code",
   "execution_count": 7,
   "id": "ce5458a3-510c-4058-9c47-69079c0fb2d6",
   "metadata": {},
   "outputs": [
    {
     "data": {
      "text/html": [
       "<div>\n",
       "<style scoped>\n",
       "    .dataframe tbody tr th:only-of-type {\n",
       "        vertical-align: middle;\n",
       "    }\n",
       "\n",
       "    .dataframe tbody tr th {\n",
       "        vertical-align: top;\n",
       "    }\n",
       "\n",
       "    .dataframe thead th {\n",
       "        text-align: right;\n",
       "    }\n",
       "</style>\n",
       "<table border=\"1\" class=\"dataframe\">\n",
       "  <thead>\n",
       "    <tr style=\"text-align: right;\">\n",
       "      <th></th>\n",
       "      <th>name</th>\n",
       "      <th>selling_price</th>\n",
       "      <th>year</th>\n",
       "      <th>seller_type</th>\n",
       "      <th>owner</th>\n",
       "      <th>km_driven</th>\n",
       "      <th>ex_showroom_price</th>\n",
       "    </tr>\n",
       "  </thead>\n",
       "  <tbody>\n",
       "    <tr>\n",
       "      <th>0</th>\n",
       "      <td>Royal Enfield Classic 350</td>\n",
       "      <td>175000</td>\n",
       "      <td>2019</td>\n",
       "      <td>Individual</td>\n",
       "      <td>1st owner</td>\n",
       "      <td>350</td>\n",
       "      <td>NaN</td>\n",
       "    </tr>\n",
       "    <tr>\n",
       "      <th>1</th>\n",
       "      <td>Honda Dio</td>\n",
       "      <td>45000</td>\n",
       "      <td>2017</td>\n",
       "      <td>Individual</td>\n",
       "      <td>1st owner</td>\n",
       "      <td>5650</td>\n",
       "      <td>NaN</td>\n",
       "    </tr>\n",
       "    <tr>\n",
       "      <th>2</th>\n",
       "      <td>Royal Enfield Classic Gunmetal Grey</td>\n",
       "      <td>150000</td>\n",
       "      <td>2018</td>\n",
       "      <td>Individual</td>\n",
       "      <td>1st owner</td>\n",
       "      <td>12000</td>\n",
       "      <td>148114.0</td>\n",
       "    </tr>\n",
       "    <tr>\n",
       "      <th>3</th>\n",
       "      <td>Yamaha Fazer FI V 2.0 [2016-2018]</td>\n",
       "      <td>65000</td>\n",
       "      <td>2015</td>\n",
       "      <td>Individual</td>\n",
       "      <td>1st owner</td>\n",
       "      <td>23000</td>\n",
       "      <td>89643.0</td>\n",
       "    </tr>\n",
       "    <tr>\n",
       "      <th>4</th>\n",
       "      <td>Yamaha SZ [2013-2014]</td>\n",
       "      <td>20000</td>\n",
       "      <td>2011</td>\n",
       "      <td>Individual</td>\n",
       "      <td>2nd owner</td>\n",
       "      <td>21000</td>\n",
       "      <td>NaN</td>\n",
       "    </tr>\n",
       "    <tr>\n",
       "      <th>5</th>\n",
       "      <td>Honda CB Twister</td>\n",
       "      <td>18000</td>\n",
       "      <td>2010</td>\n",
       "      <td>Individual</td>\n",
       "      <td>1st owner</td>\n",
       "      <td>60000</td>\n",
       "      <td>53857.0</td>\n",
       "    </tr>\n",
       "    <tr>\n",
       "      <th>6</th>\n",
       "      <td>Honda CB Hornet 160R</td>\n",
       "      <td>78500</td>\n",
       "      <td>2018</td>\n",
       "      <td>Individual</td>\n",
       "      <td>1st owner</td>\n",
       "      <td>17000</td>\n",
       "      <td>87719.0</td>\n",
       "    </tr>\n",
       "    <tr>\n",
       "      <th>7</th>\n",
       "      <td>Royal Enfield Bullet 350 [2007-2011]</td>\n",
       "      <td>180000</td>\n",
       "      <td>2008</td>\n",
       "      <td>Individual</td>\n",
       "      <td>2nd owner</td>\n",
       "      <td>39000</td>\n",
       "      <td>NaN</td>\n",
       "    </tr>\n",
       "    <tr>\n",
       "      <th>8</th>\n",
       "      <td>Hero Honda CBZ extreme</td>\n",
       "      <td>30000</td>\n",
       "      <td>2010</td>\n",
       "      <td>Individual</td>\n",
       "      <td>1st owner</td>\n",
       "      <td>32000</td>\n",
       "      <td>NaN</td>\n",
       "    </tr>\n",
       "    <tr>\n",
       "      <th>9</th>\n",
       "      <td>Bajaj Discover 125</td>\n",
       "      <td>50000</td>\n",
       "      <td>2016</td>\n",
       "      <td>Individual</td>\n",
       "      <td>1st owner</td>\n",
       "      <td>42000</td>\n",
       "      <td>60122.0</td>\n",
       "    </tr>\n",
       "  </tbody>\n",
       "</table>\n",
       "</div>"
      ],
      "text/plain": [
       "                                   name  selling_price  year seller_type  \\\n",
       "0             Royal Enfield Classic 350         175000  2019  Individual   \n",
       "1                             Honda Dio          45000  2017  Individual   \n",
       "2   Royal Enfield Classic Gunmetal Grey         150000  2018  Individual   \n",
       "3     Yamaha Fazer FI V 2.0 [2016-2018]          65000  2015  Individual   \n",
       "4                 Yamaha SZ [2013-2014]          20000  2011  Individual   \n",
       "5                      Honda CB Twister          18000  2010  Individual   \n",
       "6                  Honda CB Hornet 160R          78500  2018  Individual   \n",
       "7  Royal Enfield Bullet 350 [2007-2011]         180000  2008  Individual   \n",
       "8                Hero Honda CBZ extreme          30000  2010  Individual   \n",
       "9                    Bajaj Discover 125          50000  2016  Individual   \n",
       "\n",
       "       owner  km_driven  ex_showroom_price  \n",
       "0  1st owner        350                NaN  \n",
       "1  1st owner       5650                NaN  \n",
       "2  1st owner      12000           148114.0  \n",
       "3  1st owner      23000            89643.0  \n",
       "4  2nd owner      21000                NaN  \n",
       "5  1st owner      60000            53857.0  \n",
       "6  1st owner      17000            87719.0  \n",
       "7  2nd owner      39000                NaN  \n",
       "8  1st owner      32000                NaN  \n",
       "9  1st owner      42000            60122.0  "
      ]
     },
     "execution_count": 7,
     "metadata": {},
     "output_type": "execute_result"
    }
   ],
   "source": [
    "df.head(10)"
   ]
  },
  {
   "cell_type": "markdown",
   "id": "eb531ef8-57af-4c31-b2ab-8f5bd4dffce9",
   "metadata": {},
   "source": [
    "<h2 style=\"font-size:28px;\">Question 2: Check for missing values in all columns and describe your approach for\n",
    "handling them.\n",
    "</h2>"
   ]
  },
  {
   "cell_type": "code",
   "execution_count": 8,
   "id": "4da67d47-83e0-480c-bf78-b9d358d5a620",
   "metadata": {},
   "outputs": [
    {
     "data": {
      "text/plain": [
       "name                   0\n",
       "selling_price          0\n",
       "year                   0\n",
       "seller_type            0\n",
       "owner                  0\n",
       "km_driven              0\n",
       "ex_showroom_price    435\n",
       "dtype: int64"
      ]
     },
     "execution_count": 8,
     "metadata": {},
     "output_type": "execute_result"
    }
   ],
   "source": [
    "df.isnull().sum()"
   ]
  },
  {
   "cell_type": "code",
   "execution_count": 10,
   "id": "638a6012-c630-418c-8434-a1d26b3eecf9",
   "metadata": {},
   "outputs": [
    {
     "data": {
      "text/html": [
       "<div>\n",
       "<style scoped>\n",
       "    .dataframe tbody tr th:only-of-type {\n",
       "        vertical-align: middle;\n",
       "    }\n",
       "\n",
       "    .dataframe tbody tr th {\n",
       "        vertical-align: top;\n",
       "    }\n",
       "\n",
       "    .dataframe thead th {\n",
       "        text-align: right;\n",
       "    }\n",
       "</style>\n",
       "<table border=\"1\" class=\"dataframe\">\n",
       "  <thead>\n",
       "    <tr style=\"text-align: right;\">\n",
       "      <th></th>\n",
       "      <th>missing_counts</th>\n",
       "      <th>missing %</th>\n",
       "    </tr>\n",
       "  </thead>\n",
       "  <tbody>\n",
       "    <tr>\n",
       "      <th>ex_showroom_price</th>\n",
       "      <td>435</td>\n",
       "      <td>40.999057</td>\n",
       "    </tr>\n",
       "    <tr>\n",
       "      <th>selling_price</th>\n",
       "      <td>0</td>\n",
       "      <td>0.000000</td>\n",
       "    </tr>\n",
       "    <tr>\n",
       "      <th>name</th>\n",
       "      <td>0</td>\n",
       "      <td>0.000000</td>\n",
       "    </tr>\n",
       "    <tr>\n",
       "      <th>year</th>\n",
       "      <td>0</td>\n",
       "      <td>0.000000</td>\n",
       "    </tr>\n",
       "    <tr>\n",
       "      <th>seller_type</th>\n",
       "      <td>0</td>\n",
       "      <td>0.000000</td>\n",
       "    </tr>\n",
       "    <tr>\n",
       "      <th>owner</th>\n",
       "      <td>0</td>\n",
       "      <td>0.000000</td>\n",
       "    </tr>\n",
       "    <tr>\n",
       "      <th>km_driven</th>\n",
       "      <td>0</td>\n",
       "      <td>0.000000</td>\n",
       "    </tr>\n",
       "  </tbody>\n",
       "</table>\n",
       "</div>"
      ],
      "text/plain": [
       "                   missing_counts  missing %\n",
       "ex_showroom_price             435  40.999057\n",
       "selling_price                   0   0.000000\n",
       "name                            0   0.000000\n",
       "year                            0   0.000000\n",
       "seller_type                     0   0.000000\n",
       "owner                           0   0.000000\n",
       "km_driven                       0   0.000000"
      ]
     },
     "metadata": {},
     "output_type": "display_data"
    },
    {
     "name": "stdout",
     "output_type": "stream",
     "text": [
      "\n",
      "Brief handling approach (as comments):\n",
      "- Numeric columns: impute with median if needed.\n",
      "- Categorical columns: impute with mode or 'Unknown'.\n",
      "- Drop columns with excessive missingness if low-utility.\n"
     ]
    }
   ],
   "source": [
    "#Handling Missing values\n",
    "na_counts = df.isnull().sum().sort_values(ascending = False)\n",
    "na_percent = (df.isnull().mean()*100).sort_values(ascending = False)\n",
    "na_final = pd.concat([na_counts.rename(\"missing_counts\") , na_percent.rename(\"missing %\")] , axis = 1)\n",
    "display(na_final)\n",
    "print(\"\\nBrief handling approach (as comments):\")\n",
    "print(\"- Numeric columns: impute with median if needed.\")\n",
    "print(\"- Categorical columns: impute with mode or 'Unknown'.\")\n",
    "print(\"- Drop columns with excessive missingness if low-utility.\")"
   ]
  },
  {
   "cell_type": "markdown",
   "id": "46ec15cc-d30f-4ada-bdc5-b6c0d25c39ce",
   "metadata": {},
   "source": [
    "<h2 style=\"font-size:28px;\">Question 3: Plot the distribution of selling prices using a histogram and describe the\n",
    "overall trend.</h2>"
   ]
  },
  {
   "cell_type": "code",
   "execution_count": 16,
   "id": "baffafb0-3872-43ba-bc56-8b29860e4aa2",
   "metadata": {},
   "outputs": [
    {
     "data": {
      "image/png": "[encoded data removed]",
      "text/plain": [
       "<Figure size 640x480 with 1 Axes>"
      ]
     },
     "metadata": {},
     "output_type": "display_data"
    },
    {
     "data": {
      "text/plain": [
       "count      1061.000000\n",
       "mean      59638.151744\n",
       "std       56304.291973\n",
       "min        5000.000000\n",
       "10%       20000.000000\n",
       "25%       28000.000000\n",
       "50%       45000.000000\n",
       "75%       70000.000000\n",
       "90%      120000.000000\n",
       "max      760000.000000\n",
       "Name: selling_price_num, dtype: float64"
      ]
     },
     "metadata": {},
     "output_type": "display_data"
    }
   ],
   "source": [
    "df['selling_price_num'] = pd.to_numeric(df.get('selling_price') , errors = 'coerce')\n",
    "plt.figure()\n",
    "plt.hist(df['selling_price_num'].dropna(), bins=30)\n",
    "plt.title(\"Distribution of Selling Price\")\n",
    "plt.xlabel(\"Selling Price\")\n",
    "plt.ylabel(\"Frequency\")\n",
    "plt.show()\n",
    "display(df['selling_price_num'].describe(percentiles=[0.1,0.25,0.5,0.75,0.9]))"
   ]
  },
  {
   "cell_type": "code",
   "execution_count": 17,
   "id": "9266b862-1a36-4e33-9d14-2c940626e466",
   "metadata": {},
   "outputs": [],
   "source": [
    "#Most bikes are clustered in the lower price range.\n",
    "#A few high-priced bikes stretch the tail to the right (long tail)."
   ]
  },
  {
   "cell_type": "markdown",
   "id": "13fe3389-ed0e-4698-b470-49e95c342cc7",
   "metadata": {},
   "source": [
    "<h2 style=\"font-size:28px;\">Question 4: Create a bar plot to visualize the average selling price for each seller_type\n",
    "and write one observation.</h2>"
   ]
  },
  {
   "cell_type": "code",
   "execution_count": 18,
   "id": "ec4437e4-b458-4eb8-a8bc-10ea4b4d5645",
   "metadata": {},
   "outputs": [
    {
     "data": {
      "text/html": [
       "<div>\n",
       "<style scoped>\n",
       "    .dataframe tbody tr th:only-of-type {\n",
       "        vertical-align: middle;\n",
       "    }\n",
       "\n",
       "    .dataframe tbody tr th {\n",
       "        vertical-align: top;\n",
       "    }\n",
       "\n",
       "    .dataframe thead th {\n",
       "        text-align: right;\n",
       "    }\n",
       "</style>\n",
       "<table border=\"1\" class=\"dataframe\">\n",
       "  <thead>\n",
       "    <tr style=\"text-align: right;\">\n",
       "      <th></th>\n",
       "      <th>avg_selling_price</th>\n",
       "    </tr>\n",
       "    <tr>\n",
       "      <th>seller_type</th>\n",
       "      <th></th>\n",
       "    </tr>\n",
       "  </thead>\n",
       "  <tbody>\n",
       "    <tr>\n",
       "      <th>Individual</th>\n",
       "      <td>59711.923223</td>\n",
       "    </tr>\n",
       "    <tr>\n",
       "      <th>Dealer</th>\n",
       "      <td>46666.666667</td>\n",
       "    </tr>\n",
       "  </tbody>\n",
       "</table>\n",
       "</div>"
      ],
      "text/plain": [
       "             avg_selling_price\n",
       "seller_type                   \n",
       "Individual        59711.923223\n",
       "Dealer            46666.666667"
      ]
     },
     "metadata": {},
     "output_type": "display_data"
    },
    {
     "data": {
      "image/png": "[encoded data removed]",
      "text/plain": [
       "<Figure size 640x480 with 1 Axes>"
      ]
     },
     "metadata": {},
     "output_type": "display_data"
    }
   ],
   "source": [
    "seller_col = 'seller_type' if 'seller_type' in df.columns else None\n",
    "if seller_col is not None:\n",
    "    # ensure numeric price\n",
    "    df['selling_price_num'] = pd.to_numeric(df['selling_price'], errors='coerce')\n",
    "    avg_price_by_seller = df.groupby(seller_col, dropna=False)['selling_price_num'].mean().sort_values(ascending=False)\n",
    "    display(avg_price_by_seller.to_frame(\"avg_selling_price\"))\n",
    "\n",
    "    plt.figure()\n",
    "    avg_price_by_seller.plot(kind='bar')\n",
    "    plt.title(\"Average Selling Price by Seller Type\")\n",
    "    plt.xlabel(\"Seller Type\")\n",
    "    plt.ylabel(\"Average Selling Price\")\n",
    "    plt.tight_layout()\n",
    "    plt.show()\n",
    "else:\n",
    "    print(\"Column 'seller_type' not found in the dataset.\")"
   ]
  },
  {
   "cell_type": "markdown",
   "id": "636df261-7f2d-4a90-bb57-fc982ac5d876",
   "metadata": {},
   "source": [
    "<h2 style=\"font-size:28px;\">Question 5: Compute the average km_driven for each ownership type (1st owner,\n",
    "2nd owner, etc.), and present the result as a bar plot.\n",
    "</h2>"
   ]
  },
  {
   "cell_type": "code",
   "execution_count": 19,
   "id": "19c83087-1693-41a0-8b51-df5250bd37e6",
   "metadata": {},
   "outputs": [
    {
     "data": {
      "text/html": [
       "<div>\n",
       "<style scoped>\n",
       "    .dataframe tbody tr th:only-of-type {\n",
       "        vertical-align: middle;\n",
       "    }\n",
       "\n",
       "    .dataframe tbody tr th {\n",
       "        vertical-align: top;\n",
       "    }\n",
       "\n",
       "    .dataframe thead th {\n",
       "        text-align: right;\n",
       "    }\n",
       "</style>\n",
       "<table border=\"1\" class=\"dataframe\">\n",
       "  <thead>\n",
       "    <tr style=\"text-align: right;\">\n",
       "      <th></th>\n",
       "      <th>avg_km_driven</th>\n",
       "    </tr>\n",
       "    <tr>\n",
       "      <th>owner</th>\n",
       "      <th></th>\n",
       "    </tr>\n",
       "  </thead>\n",
       "  <tbody>\n",
       "    <tr>\n",
       "      <th>4th owner</th>\n",
       "      <td>311500.000000</td>\n",
       "    </tr>\n",
       "    <tr>\n",
       "      <th>2nd owner</th>\n",
       "      <td>39288.991870</td>\n",
       "    </tr>\n",
       "    <tr>\n",
       "      <th>3rd owner</th>\n",
       "      <td>33292.181818</td>\n",
       "    </tr>\n",
       "    <tr>\n",
       "      <th>1st owner</th>\n",
       "      <td>32816.583333</td>\n",
       "    </tr>\n",
       "  </tbody>\n",
       "</table>\n",
       "</div>"
      ],
      "text/plain": [
       "           avg_km_driven\n",
       "owner                   \n",
       "4th owner  311500.000000\n",
       "2nd owner   39288.991870\n",
       "3rd owner   33292.181818\n",
       "1st owner   32816.583333"
      ]
     },
     "metadata": {},
     "output_type": "display_data"
    },
    {
     "data": {
      "image/png": "[encoded data removed]",
      "text/plain": [
       "<Figure size 640x480 with 1 Axes>"
      ]
     },
     "metadata": {},
     "output_type": "display_data"
    }
   ],
   "source": [
    "owner_col_candidates = [c for c in df.columns if c.lower() in ['owner', 'ownership', 'ownership_type']]\n",
    "owner_col = owner_col_candidates[0] if owner_col_candidates else None\n",
    "\n",
    "df['km_driven_num'] = pd.to_numeric(df.get('km_driven'), errors='coerce')\n",
    "\n",
    "if owner_col is not None:\n",
    "    avg_km_by_owner = df.groupby(owner_col, dropna=False)['km_driven_num'].mean().sort_values(ascending=False)\n",
    "    display(avg_km_by_owner.to_frame(\"avg_km_driven\"))\n",
    "\n",
    "    plt.figure()\n",
    "    avg_km_by_owner.plot(kind='bar')\n",
    "    plt.title(\"Average km_driven by Ownership Type\")\n",
    "    plt.xlabel(\"Ownership Type\")\n",
    "    plt.ylabel(\"Average km_driven\")\n",
    "    plt.tight_layout()\n",
    "    plt.show()\n",
    "else:\n",
    "    print(\"Ownership column not found (tried: 'owner', 'ownership', 'ownership_type').\")"
   ]
  },
  {
   "cell_type": "markdown",
   "id": "8f1599cb-6277-4a02-870c-256287622e42",
   "metadata": {},
   "source": [
    "<h2 style=\"font-size:28px;\">Question 6: Use the IQR method to detect and remove outliers from the km_driven\n",
    "column. Show before-and-after summary statistics.\n",
    "</h2>"
   ]
  },
  {
   "cell_type": "code",
   "execution_count": 20,
   "id": "b0b9ad67-d61b-4bd0-9d8a-51f4d6dc4bd4",
   "metadata": {},
   "outputs": [
    {
     "name": "stdout",
     "output_type": "stream",
     "text": [
      "Before removing outliers:\n"
     ]
    },
    {
     "data": {
      "text/plain": [
       "count      1061.000000\n",
       "mean      34359.833176\n",
       "std       51623.152702\n",
       "min         350.000000\n",
       "25%       13500.000000\n",
       "50%       25000.000000\n",
       "75%       43000.000000\n",
       "max      880000.000000\n",
       "Name: km_driven_num, dtype: float64"
      ]
     },
     "metadata": {},
     "output_type": "display_data"
    },
    {
     "name": "stdout",
     "output_type": "stream",
     "text": [
      "\n",
      "IQR thresholds:\n",
      "Lower = -30750.0 Upper = 87250.0\n",
      "\n",
      "After removing outliers:\n"
     ]
    },
    {
     "data": {
      "text/plain": [
       "count     1022.000000\n",
       "mean     28203.415851\n",
       "std      19552.083583\n",
       "min        350.000000\n",
       "25%      13000.000000\n",
       "50%      24000.000000\n",
       "75%      40000.000000\n",
       "max      86000.000000\n",
       "Name: km_driven_num, dtype: float64"
      ]
     },
     "metadata": {},
     "output_type": "display_data"
    },
    {
     "name": "stdout",
     "output_type": "stream",
     "text": [
      "Rows kept: 1022 / 1061\n"
     ]
    }
   ],
   "source": [
    "km = df['km_driven_num']\n",
    "before_summary = km.describe()\n",
    "print(\"Before removing outliers:\")\n",
    "display(before_summary)\n",
    "\n",
    "Q1, Q3 = km.quantile(0.25), km.quantile(0.75)\n",
    "IQR = Q3 - Q1\n",
    "lower, upper = Q1 - 1.5*IQR, Q3 + 1.5*IQR\n",
    "\n",
    "mask = km.between(lower, upper)\n",
    "df_iqr = df[mask].copy()\n",
    "after_summary = df_iqr['km_driven_num'].describe()\n",
    "\n",
    "print(\"\\nIQR thresholds:\")\n",
    "print(\"Lower =\", lower, \"Upper =\", upper)\n",
    "print(\"\\nAfter removing outliers:\")\n",
    "display(after_summary)\n",
    "print(f\"Rows kept: {mask.sum()} / {len(df)}\")"
   ]
  },
  {
   "cell_type": "markdown",
   "id": "68cbe052-9a99-4884-abd0-7a855f8dd144",
   "metadata": {},
   "source": [
    "<h2 style=\"font-size:28px;\">Question 7: Create a scatter plot of year vs. selling_price to explore the\n",
    "relationship between a bike's age and its price.\n",
    "</h2>"
   ]
  },
  {
   "cell_type": "code",
   "execution_count": 21,
   "id": "01d503c1-2882-490a-986b-942b510936b2",
   "metadata": {},
   "outputs": [
    {
     "data": {
      "image/png": "[encoded data removed]",
      "text/plain": [
       "<Figure size 640x480 with 1 Axes>"
      ]
     },
     "metadata": {},
     "output_type": "display_data"
    },
    {
     "name": "stdout",
     "output_type": "stream",
     "text": [
      "Correlation (year, selling_price): 0.40218840061476036\n"
     ]
    }
   ],
   "source": [
    "df['year_num'] = pd.to_numeric(df.get('year'), errors='coerce')\n",
    "df['selling_price_num'] = pd.to_numeric(df.get('selling_price'), errors='coerce')\n",
    "\n",
    "plt.figure()\n",
    "plt.scatter(df['year_num'], df['selling_price_num'], s=12, alpha=0.6)\n",
    "plt.title(\"Year vs. Selling Price\")\n",
    "plt.xlabel(\"Year\")\n",
    "plt.ylabel(\"Selling Price\")\n",
    "plt.tight_layout()\n",
    "plt.show()\n",
    "\n",
    "corr_year_sp = df[['year_num','selling_price_num']].dropna().corr().iloc[0,1]\n",
    "print(\"Correlation (year, selling_price):\", corr_year_sp)"
   ]
  },
  {
   "cell_type": "markdown",
   "id": "18a0a6d3-0e91-49e7-a52d-78156c5ae6ed",
   "metadata": {},
   "source": [
    "<h2 style=\"font-size:28px;\">Question 8: Convert the seller_type column into numeric format using one-hot\n",
    "encoding. Display the first 5 rows of the resulting DataFrame.</h2>"
   ]
  },
  {
   "cell_type": "code",
   "execution_count": 22,
   "id": "98be5a05-4f60-48ca-aea9-cfc4e9e418af",
   "metadata": {},
   "outputs": [
    {
     "data": {
      "text/html": [
       "<div>\n",
       "<style scoped>\n",
       "    .dataframe tbody tr th:only-of-type {\n",
       "        vertical-align: middle;\n",
       "    }\n",
       "\n",
       "    .dataframe tbody tr th {\n",
       "        vertical-align: top;\n",
       "    }\n",
       "\n",
       "    .dataframe thead th {\n",
       "        text-align: right;\n",
       "    }\n",
       "</style>\n",
       "<table border=\"1\" class=\"dataframe\">\n",
       "  <thead>\n",
       "    <tr style=\"text-align: right;\">\n",
       "      <th></th>\n",
       "      <th>name</th>\n",
       "      <th>selling_price</th>\n",
       "      <th>year</th>\n",
       "      <th>owner</th>\n",
       "      <th>km_driven</th>\n",
       "      <th>ex_showroom_price</th>\n",
       "      <th>selling_price_num</th>\n",
       "      <th>km_driven_num</th>\n",
       "      <th>year_num</th>\n",
       "      <th>seller_type_Dealer</th>\n",
       "      <th>seller_type_Individual</th>\n",
       "    </tr>\n",
       "  </thead>\n",
       "  <tbody>\n",
       "    <tr>\n",
       "      <th>0</th>\n",
       "      <td>Royal Enfield Classic 350</td>\n",
       "      <td>175000</td>\n",
       "      <td>2019</td>\n",
       "      <td>1st owner</td>\n",
       "      <td>350</td>\n",
       "      <td>NaN</td>\n",
       "      <td>175000</td>\n",
       "      <td>350</td>\n",
       "      <td>2019</td>\n",
       "      <td>0</td>\n",
       "      <td>1</td>\n",
       "    </tr>\n",
       "    <tr>\n",
       "      <th>1</th>\n",
       "      <td>Honda Dio</td>\n",
       "      <td>45000</td>\n",
       "      <td>2017</td>\n",
       "      <td>1st owner</td>\n",
       "      <td>5650</td>\n",
       "      <td>NaN</td>\n",
       "      <td>45000</td>\n",
       "      <td>5650</td>\n",
       "      <td>2017</td>\n",
       "      <td>0</td>\n",
       "      <td>1</td>\n",
       "    </tr>\n",
       "    <tr>\n",
       "      <th>2</th>\n",
       "      <td>Royal Enfield Classic Gunmetal Grey</td>\n",
       "      <td>150000</td>\n",
       "      <td>2018</td>\n",
       "      <td>1st owner</td>\n",
       "      <td>12000</td>\n",
       "      <td>148114.0</td>\n",
       "      <td>150000</td>\n",
       "      <td>12000</td>\n",
       "      <td>2018</td>\n",
       "      <td>0</td>\n",
       "      <td>1</td>\n",
       "    </tr>\n",
       "    <tr>\n",
       "      <th>3</th>\n",
       "      <td>Yamaha Fazer FI V 2.0 [2016-2018]</td>\n",
       "      <td>65000</td>\n",
       "      <td>2015</td>\n",
       "      <td>1st owner</td>\n",
       "      <td>23000</td>\n",
       "      <td>89643.0</td>\n",
       "      <td>65000</td>\n",
       "      <td>23000</td>\n",
       "      <td>2015</td>\n",
       "      <td>0</td>\n",
       "      <td>1</td>\n",
       "    </tr>\n",
       "    <tr>\n",
       "      <th>4</th>\n",
       "      <td>Yamaha SZ [2013-2014]</td>\n",
       "      <td>20000</td>\n",
       "      <td>2011</td>\n",
       "      <td>2nd owner</td>\n",
       "      <td>21000</td>\n",
       "      <td>NaN</td>\n",
       "      <td>20000</td>\n",
       "      <td>21000</td>\n",
       "      <td>2011</td>\n",
       "      <td>0</td>\n",
       "      <td>1</td>\n",
       "    </tr>\n",
       "  </tbody>\n",
       "</table>\n",
       "</div>"
      ],
      "text/plain": [
       "                                  name  selling_price  year      owner  \\\n",
       "0            Royal Enfield Classic 350         175000  2019  1st owner   \n",
       "1                            Honda Dio          45000  2017  1st owner   \n",
       "2  Royal Enfield Classic Gunmetal Grey         150000  2018  1st owner   \n",
       "3    Yamaha Fazer FI V 2.0 [2016-2018]          65000  2015  1st owner   \n",
       "4                Yamaha SZ [2013-2014]          20000  2011  2nd owner   \n",
       "\n",
       "   km_driven  ex_showroom_price  selling_price_num  km_driven_num  year_num  \\\n",
       "0        350                NaN             175000            350      2019   \n",
       "1       5650                NaN              45000           5650      2017   \n",
       "2      12000           148114.0             150000          12000      2018   \n",
       "3      23000            89643.0              65000          23000      2015   \n",
       "4      21000                NaN              20000          21000      2011   \n",
       "\n",
       "   seller_type_Dealer  seller_type_Individual  \n",
       "0                   0                       1  \n",
       "1                   0                       1  \n",
       "2                   0                       1  \n",
       "3                   0                       1  \n",
       "4                   0                       1  "
      ]
     },
     "metadata": {},
     "output_type": "display_data"
    }
   ],
   "source": [
    "if 'seller_type' in df.columns:\n",
    "    df_ohe = pd.get_dummies(df, columns=['seller_type'], drop_first=False, dtype=int)\n",
    "    display(df_ohe.head())\n",
    "else:\n",
    "    print(\"Column 'seller_type' not found; cannot perform one-hot encoding.\")"
   ]
  },
  {
   "cell_type": "markdown",
   "id": "6943252e-3b4e-4c29-9bbc-7893eda5d195",
   "metadata": {},
   "source": [
    "<h2 style=\"font-size:28px;\">Question 9: Generate a heatmap of the correlation matrix for all numeric columns.\n",
    "What correlations stand out the most?\n",
    "</h2>"
   ]
  },
  {
   "cell_type": "code",
   "execution_count": 23,
   "id": "4edfcc26-553d-49d2-8323-1a286c2e9cb2",
   "metadata": {},
   "outputs": [
    {
     "data": {
      "image/png": "[encoded data removed]",
      "text/plain": [
       "<Figure size 640x480 with 2 Axes>"
      ]
     },
     "metadata": {},
     "output_type": "display_data"
    },
    {
     "data": {
      "text/html": [
       "<div>\n",
       "<style scoped>\n",
       "    .dataframe tbody tr th:only-of-type {\n",
       "        vertical-align: middle;\n",
       "    }\n",
       "\n",
       "    .dataframe tbody tr th {\n",
       "        vertical-align: top;\n",
       "    }\n",
       "\n",
       "    .dataframe thead th {\n",
       "        text-align: right;\n",
       "    }\n",
       "</style>\n",
       "<table border=\"1\" class=\"dataframe\">\n",
       "  <thead>\n",
       "    <tr style=\"text-align: right;\">\n",
       "      <th></th>\n",
       "      <th></th>\n",
       "      <th>abs_correlation</th>\n",
       "    </tr>\n",
       "  </thead>\n",
       "  <tbody>\n",
       "    <tr>\n",
       "      <th>selling_price</th>\n",
       "      <th>selling_price_num</th>\n",
       "      <td>1.000000</td>\n",
       "    </tr>\n",
       "    <tr>\n",
       "      <th>year</th>\n",
       "      <th>year_num</th>\n",
       "      <td>1.000000</td>\n",
       "    </tr>\n",
       "    <tr>\n",
       "      <th>km_driven_num</th>\n",
       "      <th>km_driven</th>\n",
       "      <td>1.000000</td>\n",
       "    </tr>\n",
       "    <tr>\n",
       "      <th>selling_price_num</th>\n",
       "      <th>selling_price</th>\n",
       "      <td>1.000000</td>\n",
       "    </tr>\n",
       "    <tr>\n",
       "      <th>km_driven</th>\n",
       "      <th>km_driven_num</th>\n",
       "      <td>1.000000</td>\n",
       "    </tr>\n",
       "    <tr>\n",
       "      <th>year_num</th>\n",
       "      <th>year</th>\n",
       "      <td>1.000000</td>\n",
       "    </tr>\n",
       "    <tr>\n",
       "      <th>ex_showroom_price</th>\n",
       "      <th>selling_price</th>\n",
       "      <td>0.918583</td>\n",
       "    </tr>\n",
       "    <tr>\n",
       "      <th>selling_price</th>\n",
       "      <th>ex_showroom_price</th>\n",
       "      <td>0.918583</td>\n",
       "    </tr>\n",
       "    <tr>\n",
       "      <th>selling_price_num</th>\n",
       "      <th>ex_showroom_price</th>\n",
       "      <td>0.918583</td>\n",
       "    </tr>\n",
       "    <tr>\n",
       "      <th>ex_showroom_price</th>\n",
       "      <th>selling_price_num</th>\n",
       "      <td>0.918583</td>\n",
       "    </tr>\n",
       "  </tbody>\n",
       "</table>\n",
       "</div>"
      ],
      "text/plain": [
       "                                     abs_correlation\n",
       "selling_price     selling_price_num         1.000000\n",
       "year              year_num                  1.000000\n",
       "km_driven_num     km_driven                 1.000000\n",
       "selling_price_num selling_price             1.000000\n",
       "km_driven         km_driven_num             1.000000\n",
       "year_num          year                      1.000000\n",
       "ex_showroom_price selling_price             0.918583\n",
       "selling_price     ex_showroom_price         0.918583\n",
       "selling_price_num ex_showroom_price         0.918583\n",
       "ex_showroom_price selling_price_num         0.918583"
      ]
     },
     "metadata": {},
     "output_type": "display_data"
    }
   ],
   "source": [
    "numeric_df = df.select_dtypes(include=[np.number]).apply(pd.to_numeric, errors='coerce')\n",
    "corr = numeric_df.corr()\n",
    "\n",
    "plt.figure()\n",
    "im = plt.imshow(corr, aspect='auto')\n",
    "plt.title(\"Correlation Heatmap (Numeric Columns)\")\n",
    "plt.xticks(ticks=range(len(corr.columns)), labels=corr.columns, rotation=45, ha='right')\n",
    "plt.yticks(ticks=range(len(corr.index)), labels=corr.index)\n",
    "plt.colorbar(im, fraction=0.046, pad=0.04)\n",
    "plt.tight_layout()\n",
    "plt.show()\n",
    "\n",
    "corr_unstack = corr.abs().where(~np.eye(corr.shape[0], dtype=bool))\n",
    "top_pairs = corr_unstack.unstack().dropna().sort_values(ascending=False).head(10)\n",
    "display(top_pairs.to_frame(\"abs_correlation\"))"
   ]
  },
  {
   "cell_type": "markdown",
   "id": "99419e5b-8a4d-4328-8c17-a9ab8eed7359",
   "metadata": {},
   "source": [
    "<h2 style=\"font-size:28px;\">Question 10: Summarize your findings in a brief report:</h2>"
   ]
  },
  {
   "cell_type": "markdown",
   "id": "300899d9-7fd7-4783-a327-042895313ee1",
   "metadata": {},
   "source": [
    "1* Key price drivers (indicative): Newer model year, lower kilometers, higher engine/power ratings (if present), and seller type.\n",
    "2* Data cleaning performed: Type coercion for numeric fields; missing value inspection; IQR-based outlier removal example for km_driven.\n",
    "3* Feature engineering ideas: One-hot encode categoricals (e.g., seller_type), binning, scaling; interaction terms.\n",
    "4* Next steps: Fit baseline regression (Linear Regression/Random Forest) and evaluate MAE/RMSE."
   ]
  }
 ],
 "metadata": {
  "kernelspec": {
   "display_name": "Python 3 (ipykernel)",
   "language": "python",
   "name": "python3"
  },
  "language_info": {
   "codemirror_mode": {
    "name": "ipython",
    "version": 3
   },
   "file_extension": ".py",
   "mimetype": "text/x-python",
   "name": "python",
   "nbconvert_exporter": "python",
   "pygments_lexer": "ipython3",
   "version": "3.13.5"
  }
 },
 "nbformat": 4,
 "nbformat_minor": 5
}
